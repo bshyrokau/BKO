{
 "cells": [
  {
   "cell_type": "markdown",
   "metadata": {},
   "source": [
    "The learning objective of this assignment is to design own tire characteristics  "
   ]
  },
  {
   "cell_type": "code",
   "execution_count": 1,
   "metadata": {},
   "outputs": [],
   "source": [
    "import numpy as np\n",
    "import matplotlib.pyplot as plt"
   ]
  },
  {
   "cell_type": "code",
   "execution_count": 2,
   "metadata": {
    "scrolled": true
   },
   "outputs": [
    {
     "name": "stdout",
     "output_type": "stream",
     "text": [
      "('Peak friction factor D for dry surface = ', 1)\n"
     ]
    }
   ],
   "source": [
    "D = 1\n",
    "print (\"Peak friction factor D for dry surface = \", D)"
   ]
  },
  {
   "cell_type": "markdown",
   "metadata": {},
   "source": [
    "Select shape C, stiffness B and curvature E factors for your own designed tire "
   ]
  },
  {
   "cell_type": "code",
   "execution_count": 3,
   "metadata": {},
   "outputs": [
    {
     "name": "stdout",
     "output_type": "stream",
     "text": [
      "('Shape factor C in the range from 1.2 till 2.2: C = ', 2.5)\n"
     ]
    }
   ],
   "source": [
    "C = 2.5\n",
    "print (\"Shape factor C in the range from 1.2 till 2.2: C = \", C)"
   ]
  },
  {
   "cell_type": "code",
   "execution_count": 4,
   "metadata": {},
   "outputs": [
    {
     "name": "stdout",
     "output_type": "stream",
     "text": [
      "('Stiffness factor B in the range from 4 till 15: B= ', 10)\n"
     ]
    }
   ],
   "source": [
    "B = 10\n",
    "print (\"Stiffness factor B in the range from 4 till 15: B= \", B)"
   ]
  },
  {
   "cell_type": "code",
   "execution_count": 5,
   "metadata": {},
   "outputs": [
    {
     "name": "stdout",
     "output_type": "stream",
     "text": [
      "('Curvature factor E in the range from 0 till 1: E= ', 1)\n"
     ]
    }
   ],
   "source": [
    "E = 1\n",
    "print (\"Curvature factor E in the range from 0 till 1: E= \", E)"
   ]
  },
  {
   "cell_type": "code",
   "execution_count": 6,
   "metadata": {},
   "outputs": [
    {
     "data": {
      "image/png": "[encoded data removed]",
      "text/plain": [
       "<Figure size 432x288 with 1 Axes>"
      ]
     },
     "metadata": {},
     "output_type": "display_data"
    }
   ],
   "source": [
    "x = np.linspace(-0.3,0.3,500)\n",
    "y = D*np.sin(C*np.arctan(B*x - E*(B*x - np.arctan(B*x))))\n",
    "plt.plot(x,y)\n",
    "plt.xlabel('Lateral slip angle, rad')\n",
    "plt.ylabel('Normalized lateral force')\n",
    "plt.show()"
   ]
  },
  {
   "cell_type": "code",
   "execution_count": null,
   "metadata": {},
   "outputs": [],
   "source": []
  }
 ],
 "metadata": {
  "kernelspec": {
   "display_name": "Python 2",
   "language": "python",
   "name": "python2"
  },
  "language_info": {
   "codemirror_mode": {
    "name": "ipython",
    "version": 2
   },
   "file_extension": ".py",
   "mimetype": "text/x-python",
   "name": "python",
   "nbconvert_exporter": "python",
   "pygments_lexer": "ipython2",
   "version": "2.7.15"
  }
 },
 "nbformat": 4,
 "nbformat_minor": 2
}
